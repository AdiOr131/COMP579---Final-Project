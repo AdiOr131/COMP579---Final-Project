{
 "cells": [
  {
   "cell_type": "code",
   "execution_count": 2,
   "id": "e19816a6",
   "metadata": {},
   "outputs": [],
   "source": [
    "import random\n",
    "import numpy as np\n",
    "import matplotlib.pyplot as plt\n",
    "from env        import Game2048Env\n",
    "from features   import pattern\n",
    "from learners   import FeatureTD0Learner\n",
    "from agent      import RLAgent"
   ]
  },
  {
   "cell_type": "code",
   "execution_count": null,
   "id": "2ff32a09",
   "metadata": {},
   "outputs": [
    {
     "ename": "TypeError",
     "evalue": "object.__init__() takes exactly one argument (the instance to initialize)",
     "output_type": "error",
     "traceback": [
      "\u001b[1;31m---------------------------------------------------------------------------\u001b[0m",
      "\u001b[1;31mTypeError\u001b[0m                                 Traceback (most recent call last)",
      "Cell \u001b[1;32mIn[3], line 21\u001b[0m\n\u001b[0;32m     18\u001b[0m env \u001b[38;5;241m=\u001b[39m Game2048Env(seed\u001b[38;5;241m=\u001b[39mseed, ascii_render\u001b[38;5;241m=\u001b[39mascii, gui\u001b[38;5;241m=\u001b[39mgui)\n\u001b[0;32m     20\u001b[0m \u001b[38;5;66;03m# ─── 4) Instantiate and configure the learner ────────────────────────────────\u001b[39;00m\n\u001b[1;32m---> 21\u001b[0m learner \u001b[38;5;241m=\u001b[39m \u001b[43mFeatureTD0Learner\u001b[49m\u001b[43m(\u001b[49m\u001b[43malpha\u001b[49m\u001b[38;5;241;43m=\u001b[39;49m\u001b[43malpha\u001b[49m\u001b[43m,\u001b[49m\u001b[43m \u001b[49m\u001b[43mgamma\u001b[49m\u001b[38;5;241;43m=\u001b[39;49m\u001b[43mgamma\u001b[49m\u001b[43m,\u001b[49m\u001b[43m \u001b[49m\u001b[43msparse\u001b[49m\u001b[38;5;241;43m=\u001b[39;49m\u001b[38;5;28;43;01mTrue\u001b[39;49;00m\u001b[43m)\u001b[49m\n\u001b[0;32m     23\u001b[0m tuples \u001b[38;5;241m=\u001b[39m [\n\u001b[0;32m     24\u001b[0m     [\u001b[38;5;241m0\u001b[39m,\u001b[38;5;241m1\u001b[39m,\u001b[38;5;241m2\u001b[39m,\u001b[38;5;241m3\u001b[39m,\u001b[38;5;241m4\u001b[39m,\u001b[38;5;241m5\u001b[39m],\n\u001b[0;32m     25\u001b[0m     [\u001b[38;5;241m4\u001b[39m,\u001b[38;5;241m5\u001b[39m,\u001b[38;5;241m6\u001b[39m,\u001b[38;5;241m7\u001b[39m,\u001b[38;5;241m8\u001b[39m,\u001b[38;5;241m9\u001b[39m],\n\u001b[0;32m     26\u001b[0m     [\u001b[38;5;241m0\u001b[39m,\u001b[38;5;241m1\u001b[39m,\u001b[38;5;241m2\u001b[39m,\u001b[38;5;241m4\u001b[39m,\u001b[38;5;241m5\u001b[39m,\u001b[38;5;241m6\u001b[39m],\n\u001b[0;32m     27\u001b[0m     [\u001b[38;5;241m4\u001b[39m,\u001b[38;5;241m5\u001b[39m,\u001b[38;5;241m6\u001b[39m,\u001b[38;5;241m8\u001b[39m,\u001b[38;5;241m9\u001b[39m,\u001b[38;5;241m10\u001b[39m]\n\u001b[0;32m     28\u001b[0m ]\n\u001b[0;32m     29\u001b[0m \u001b[38;5;28;01mfor\u001b[39;00m patt \u001b[38;5;129;01min\u001b[39;00m tuples:\n",
      "File \u001b[1;32mc:\\Users\\adior\\OneDrive - McGill University\\McGill\\Semester 8\\COMP579\\Final Project\\src\\learners.py:163\u001b[0m, in \u001b[0;36mFeatureTD0Learner.__init__\u001b[1;34m(self, alpha, gamma, lam, sparse)\u001b[0m\n\u001b[0;32m    162\u001b[0m \u001b[38;5;28;01mdef\u001b[39;00m \u001b[38;5;21m__init__\u001b[39m(\u001b[38;5;28mself\u001b[39m, alpha: \u001b[38;5;28mfloat\u001b[39m \u001b[38;5;241m=\u001b[39m \u001b[38;5;241m0.1\u001b[39m, gamma: \u001b[38;5;28mfloat\u001b[39m \u001b[38;5;241m=\u001b[39m \u001b[38;5;241m0.99\u001b[39m, lam: \u001b[38;5;28mfloat\u001b[39m \u001b[38;5;241m=\u001b[39m \u001b[38;5;241m0.8\u001b[39m, sparse: \u001b[38;5;28mbool\u001b[39m \u001b[38;5;241m=\u001b[39m \u001b[38;5;28;01mTrue\u001b[39;00m):\n\u001b[1;32m--> 163\u001b[0m     \u001b[38;5;28;43msuper\u001b[39;49m\u001b[43m(\u001b[49m\u001b[43m)\u001b[49m\u001b[38;5;241;43m.\u001b[39;49m\u001b[38;5;21;43m__init__\u001b[39;49m\u001b[43m(\u001b[49m\u001b[43malpha\u001b[49m\u001b[43m,\u001b[49m\u001b[43m \u001b[49m\u001b[43mgamma\u001b[49m\u001b[43m,\u001b[49m\u001b[43m \u001b[49m\u001b[43msparse\u001b[49m\u001b[43m)\u001b[49m\n\u001b[0;32m    164\u001b[0m     \u001b[38;5;28mself\u001b[39m\u001b[38;5;241m.\u001b[39mlam \u001b[38;5;241m=\u001b[39m lam\n\u001b[0;32m    165\u001b[0m     \u001b[38;5;28mself\u001b[39m\u001b[38;5;241m.\u001b[39mtraces: \u001b[38;5;28mlist\u001b[39m[\u001b[38;5;28mfloat\u001b[39m] \u001b[38;5;241m=\u001b[39m []\n",
      "\u001b[1;31mTypeError\u001b[0m: object.__init__() takes exactly one argument (the instance to initialize)"
     ]
    }
   ],
   "source": [
    "seed       = 42\n",
    "episodes   = 10000\n",
    "alpha      = 0.1        # step size for TD(0)\n",
    "gamma      = 0.99\n",
    "epsilon    = 0.01\n",
    "decay      = 0.999\n",
    "eps_min    = 0.001\n",
    "ascii      = False\n",
    "gui        = False\n",
    "stat_unit  = 1000       # print stats every 1000 episodes\n",
    "save_path  = \"feat_td0.pkl\"\n",
    "\n",
    "# ─── 2) Seed RNGs ──────────────────────────────────────────────────────────────\n",
    "random.seed(seed)\n",
    "np.random.seed(seed)\n",
    "\n",
    "# ─── 3) Build environment ────────────────────────────────────────────────────\n",
    "env = Game2048Env(seed=seed, ascii_render=ascii, gui=gui)\n",
    "\n",
    "# ─── 4) Instantiate and configure the learner ────────────────────────────────\n",
    "learner = FeatureTD0Learner(alpha=alpha, gamma=gamma, sparse=True)\n",
    "\n",
    "tuples = [\n",
    "    [0,1,2,3,4,5],\n",
    "    [4,5,6,7,8,9],\n",
    "    [0,1,2,4,5,6],\n",
    "    [4,5,6,8,9,10]\n",
    "]\n",
    "for patt in tuples:\n",
    "    learner.add_feature(pattern(patt, iso=8))\n",
    "\n",
    "agent = RLAgent(env, learner, epsilon=epsilon, decay=decay, eps_min=eps_min)\n",
    "\n",
    "# 4) Training loop\n",
    "scores = []\n",
    "for ep in range(1, episodes+1):\n",
    "    # reset eligibility traces if using TDLambda\n",
    "    if hasattr(learner, \"reset_traces\"):\n",
    "        learner.reset_traces()\n",
    "\n",
    "    # run one full episode\n",
    "    sc = agent.run_episode()\n",
    "    scores.append(sc)\n",
    "\n",
    "    # print detailed stats every stat_unit games\n",
    "    learner.make_statistic(ep, env.b, sc, unit=stat_unit)\n"
   ]
  },
  {
   "cell_type": "code",
   "execution_count": 3,
   "id": "dd5e540b",
   "metadata": {},
   "outputs": [
    {
     "name": "stderr",
     "output_type": "stream",
     "text": [
      "1000\tavg = 1031.0\tmax = 3476.0\n",
      "\t16\t100.0%\t(0.4%)\n",
      "\t32\t99.6%\t(7.9%)\n",
      "\t64\t91.7%\t(37.6%)\n",
      "\t128\t54.1%\t(49.1%)\n",
      "\t256\t5.0%\t(5.0%)\n"
     ]
    },
    {
     "ename": "KeyboardInterrupt",
     "evalue": "",
     "output_type": "error",
     "traceback": [
      "\u001b[1;31m---------------------------------------------------------------------------\u001b[0m",
      "\u001b[1;31mKeyboardInterrupt\u001b[0m                         Traceback (most recent call last)",
      "Cell \u001b[1;32mIn[3], line 3\u001b[0m\n\u001b[0;32m      1\u001b[0m scores \u001b[38;5;241m=\u001b[39m []\n\u001b[0;32m      2\u001b[0m \u001b[38;5;28;01mfor\u001b[39;00m ep \u001b[38;5;129;01min\u001b[39;00m \u001b[38;5;28mrange\u001b[39m(\u001b[38;5;241m1\u001b[39m, episodes \u001b[38;5;241m+\u001b[39m \u001b[38;5;241m1\u001b[39m):\n\u001b[1;32m----> 3\u001b[0m     score \u001b[38;5;241m=\u001b[39m \u001b[43magent\u001b[49m\u001b[38;5;241;43m.\u001b[39;49m\u001b[43mrun_episode\u001b[49m\u001b[43m(\u001b[49m\u001b[43m)\u001b[49m\n\u001b[0;32m      4\u001b[0m     scores\u001b[38;5;241m.\u001b[39mappend(score)\n\u001b[0;32m      6\u001b[0m     \u001b[38;5;66;03m# use the built‑in statistic printer on your learner\u001b[39;00m\n",
      "File \u001b[1;32mc:\\Users\\adior\\OneDrive - McGill University\\McGill\\Semester 8\\COMP579\\Final Project\\src\\agent.py:28\u001b[0m, in \u001b[0;36mRLAgent.run_episode\u001b[1;34m(self)\u001b[0m\n\u001b[0;32m     25\u001b[0m     a \u001b[38;5;241m=\u001b[39m \u001b[38;5;28mself\u001b[39m\u001b[38;5;241m.\u001b[39menv\u001b[38;5;241m.\u001b[39msample_move()\n\u001b[0;32m     27\u001b[0m \u001b[38;5;66;03m# ─── environment step ─────────────────────────\u001b[39;00m\n\u001b[1;32m---> 28\u001b[0m s2, r, done, _ \u001b[38;5;241m=\u001b[39m \u001b[38;5;28;43mself\u001b[39;49m\u001b[38;5;241;43m.\u001b[39;49m\u001b[43menv\u001b[49m\u001b[38;5;241;43m.\u001b[39;49m\u001b[43mstep\u001b[49m\u001b[43m(\u001b[49m\u001b[43ma\u001b[49m\u001b[43m)\u001b[49m\n\u001b[0;32m     29\u001b[0m total \u001b[38;5;241m+\u001b[39m\u001b[38;5;241m=\u001b[39m r\n\u001b[0;32m     31\u001b[0m \u001b[38;5;66;03m# ─── learning step ───────────────────────────\u001b[39;00m\n",
      "File \u001b[1;32mc:\\Users\\adior\\OneDrive - McGill University\\McGill\\Semester 8\\COMP579\\Final Project\\src\\env.py:48\u001b[0m, in \u001b[0;36mGame2048Env.step\u001b[1;34m(self, action)\u001b[0m\n\u001b[0;32m     46\u001b[0m \u001b[38;5;28;01melse\u001b[39;00m:\n\u001b[0;32m     47\u001b[0m     \u001b[38;5;28mself\u001b[39m\u001b[38;5;241m.\u001b[39mb\u001b[38;5;241m.\u001b[39mpopup()     \u001b[38;5;66;03m# only add a tile on valid moves\u001b[39;00m\n\u001b[1;32m---> 48\u001b[0m done \u001b[38;5;241m=\u001b[39m \u001b[38;5;129;01mnot\u001b[39;00m \u001b[38;5;28;43mself\u001b[39;49m\u001b[38;5;241;43m.\u001b[39;49m\u001b[43mb\u001b[49m\u001b[38;5;241;43m.\u001b[39;49m\u001b[43mcan_move\u001b[49m\u001b[43m(\u001b[49m\u001b[43m)\u001b[49m\n\u001b[0;32m     49\u001b[0m \u001b[38;5;28mself\u001b[39m\u001b[38;5;241m.\u001b[39m_maybe_render()\n\u001b[0;32m     50\u001b[0m \u001b[38;5;28;01mreturn\u001b[39;00m \u001b[38;5;28mself\u001b[39m\u001b[38;5;241m.\u001b[39mb\u001b[38;5;241m.\u001b[39mraw, reward, done, {\u001b[38;5;124m\"\u001b[39m\u001b[38;5;124millegal\u001b[39m\u001b[38;5;124m\"\u001b[39m: illegal}\n",
      "File \u001b[1;32mc:\\Users\\adior\\OneDrive - McGill University\\McGill\\Semester 8\\COMP579\\Final Project\\src\\board.py:262\u001b[0m, in \u001b[0;36mboard.can_move\u001b[1;34m(self)\u001b[0m\n\u001b[0;32m    260\u001b[0m \u001b[38;5;28;01mdef\u001b[39;00m \u001b[38;5;21mcan_move\u001b[39m(\u001b[38;5;28mself\u001b[39m) \u001b[38;5;241m-\u001b[39m\u001b[38;5;241m>\u001b[39m \u001b[38;5;28mbool\u001b[39m:\n\u001b[0;32m    261\u001b[0m     \u001b[38;5;28;01mfor\u001b[39;00m op \u001b[38;5;129;01min\u001b[39;00m \u001b[38;5;28mrange\u001b[39m(\u001b[38;5;241m4\u001b[39m):\n\u001b[1;32m--> 262\u001b[0m         \u001b[38;5;28;01mif\u001b[39;00m \u001b[38;5;28;43mself\u001b[39;49m\u001b[38;5;241;43m.\u001b[39;49m\u001b[43mclone\u001b[49m\u001b[43m(\u001b[49m\u001b[43m)\u001b[49m\u001b[38;5;241;43m.\u001b[39;49m\u001b[43mmove\u001b[49m\u001b[43m(\u001b[49m\u001b[43mop\u001b[49m\u001b[43m)\u001b[49m \u001b[38;5;241m!=\u001b[39m \u001b[38;5;241m-\u001b[39m\u001b[38;5;241m1\u001b[39m:\n\u001b[0;32m    263\u001b[0m             \u001b[38;5;28;01mreturn\u001b[39;00m \u001b[38;5;28;01mTrue\u001b[39;00m\n\u001b[0;32m    264\u001b[0m     \u001b[38;5;28;01mreturn\u001b[39;00m \u001b[38;5;28;01mFalse\u001b[39;00m\n",
      "File \u001b[1;32mc:\\Users\\adior\\OneDrive - McGill University\\McGill\\Semester 8\\COMP579\\Final Project\\src\\board.py:145\u001b[0m, in \u001b[0;36mboard.move\u001b[1;34m(self, opcode)\u001b[0m\n\u001b[0;32m    140\u001b[0m \u001b[38;5;250m\u001b[39m\u001b[38;5;124;03m\"\"\"\u001b[39;00m\n\u001b[0;32m    141\u001b[0m \u001b[38;5;124;03mapply an action to the board\u001b[39;00m\n\u001b[0;32m    142\u001b[0m \u001b[38;5;124;03mreturn the reward of the action, or -1 if the action is illegal\u001b[39;00m\n\u001b[0;32m    143\u001b[0m \u001b[38;5;124;03m\"\"\"\u001b[39;00m\n\u001b[0;32m    144\u001b[0m \u001b[38;5;28;01mif\u001b[39;00m opcode \u001b[38;5;241m==\u001b[39m \u001b[38;5;241m0\u001b[39m:\n\u001b[1;32m--> 145\u001b[0m     \u001b[38;5;28;01mreturn\u001b[39;00m \u001b[38;5;28;43mself\u001b[39;49m\u001b[38;5;241;43m.\u001b[39;49m\u001b[43mmove_up\u001b[49m\u001b[43m(\u001b[49m\u001b[43m)\u001b[49m\n\u001b[0;32m    146\u001b[0m \u001b[38;5;28;01melif\u001b[39;00m opcode \u001b[38;5;241m==\u001b[39m \u001b[38;5;241m1\u001b[39m:\n\u001b[0;32m    147\u001b[0m     \u001b[38;5;28;01mreturn\u001b[39;00m \u001b[38;5;28mself\u001b[39m\u001b[38;5;241m.\u001b[39mmove_right()\n",
      "File \u001b[1;32mc:\\Users\\adior\\OneDrive - McGill University\\McGill\\Semester 8\\COMP579\\Final Project\\src\\board.py:175\u001b[0m, in \u001b[0;36mboard.move_up\u001b[1;34m(self)\u001b[0m\n\u001b[0;32m    173\u001b[0m \u001b[38;5;28;01mdef\u001b[39;00m \u001b[38;5;21mmove_up\u001b[39m(\u001b[38;5;28mself\u001b[39m) \u001b[38;5;241m-\u001b[39m\u001b[38;5;241m>\u001b[39m \u001b[38;5;28mint\u001b[39m:\n\u001b[0;32m    174\u001b[0m     \u001b[38;5;28mself\u001b[39m\u001b[38;5;241m.\u001b[39mrotate_clockwise()\n\u001b[1;32m--> 175\u001b[0m     score \u001b[38;5;241m=\u001b[39m \u001b[38;5;28;43mself\u001b[39;49m\u001b[38;5;241;43m.\u001b[39;49m\u001b[43mmove_right\u001b[49m\u001b[43m(\u001b[49m\u001b[43m)\u001b[49m\n\u001b[0;32m    176\u001b[0m     \u001b[38;5;28mself\u001b[39m\u001b[38;5;241m.\u001b[39mrotate_counterclockwise()\n\u001b[0;32m    177\u001b[0m     \u001b[38;5;28;01mreturn\u001b[39;00m score\n",
      "File \u001b[1;32mc:\\Users\\adior\\OneDrive - McGill University\\McGill\\Semester 8\\COMP579\\Final Project\\src\\board.py:164\u001b[0m, in \u001b[0;36mboard.move_right\u001b[1;34m(self)\u001b[0m\n\u001b[0;32m    161\u001b[0m     \u001b[38;5;28mself\u001b[39m\u001b[38;5;241m.\u001b[39mraw \u001b[38;5;241m=\u001b[39m move\n\u001b[0;32m    162\u001b[0m     \u001b[38;5;28;01mreturn\u001b[39;00m score \u001b[38;5;28;01mif\u001b[39;00m move \u001b[38;5;241m!=\u001b[39m prev \u001b[38;5;28;01melse\u001b[39;00m \u001b[38;5;241m-\u001b[39m\u001b[38;5;241m1\u001b[39m\n\u001b[1;32m--> 164\u001b[0m \u001b[38;5;28;01mdef\u001b[39;00m \u001b[38;5;21mmove_right\u001b[39m(\u001b[38;5;28mself\u001b[39m) \u001b[38;5;241m-\u001b[39m\u001b[38;5;241m>\u001b[39m \u001b[38;5;28mint\u001b[39m:\n\u001b[0;32m    165\u001b[0m     move \u001b[38;5;241m=\u001b[39m \u001b[38;5;241m0\u001b[39m\n\u001b[0;32m    166\u001b[0m     prev \u001b[38;5;241m=\u001b[39m \u001b[38;5;28mself\u001b[39m\u001b[38;5;241m.\u001b[39mraw\n",
      "\u001b[1;31mKeyboardInterrupt\u001b[0m: "
     ]
    }
   ],
   "source": [
    "scores = []\n",
    "for ep in range(1, episodes + 1):\n",
    "    score = agent.run_episode()\n",
    "    scores.append(score)\n",
    "\n",
    "    # use the built‑in statistic printer on your learner\n",
    "    learner.make_statistic(ep, env.b, score, unit=stat_unit)"
   ]
  }
 ],
 "metadata": {
  "kernelspec": {
   "display_name": "Python 3",
   "language": "python",
   "name": "python3"
  },
  "language_info": {
   "codemirror_mode": {
    "name": "ipython",
    "version": 3
   },
   "file_extension": ".py",
   "mimetype": "text/x-python",
   "name": "python",
   "nbconvert_exporter": "python",
   "pygments_lexer": "ipython3",
   "version": "3.12.2"
  }
 },
 "nbformat": 4,
 "nbformat_minor": 5
}
