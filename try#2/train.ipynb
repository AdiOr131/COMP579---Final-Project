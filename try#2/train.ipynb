{
 "cells": [
  {
   "cell_type": "code",
   "execution_count": 3,
   "id": "fcdab926",
   "metadata": {},
   "outputs": [],
   "source": [
    "import sys, pathlib, importlib, warnings\n",
    "\n",
    "repo = pathlib.Path().resolve()          # notebook’s directory\n",
    "if str(repo) not in sys.path:\n",
    "    sys.path.insert(0, str(repo))\n",
    "\n",
    "# hot reload edited modules\n",
    "for m in [\"board\", \"env\", \"features\", \"learners\", \"agent\"]:\n",
    "    if m in sys.modules:\n",
    "        importlib.reload(sys.modules[m])\n",
    "\n",
    "from env import Game2048Env\n",
    "from learners import make_learner\n",
    "from agent import Agent"
   ]
  },
  {
   "cell_type": "code",
   "execution_count": 4,
   "id": "9b7cb8a0",
   "metadata": {},
   "outputs": [
    {
     "name": "stdout",
     "output_type": "stream",
     "text": [
      "  1000  mean score last 1k = 2212  best = 9976\n",
      "  2000  mean score last 1k = 3086  best = 11400\n",
      "  3000  mean score last 1k = 3958  best = 12040\n",
      "  4000  mean score last 1k = 4525  best = 12356\n",
      "  5000  mean score last 1k = 4831  best = 12516\n",
      "  6000  mean score last 1k = 5065  best = 14312\n",
      "  7000  mean score last 1k = 5347  best = 12772\n",
      "  8000  mean score last 1k = 5504  best = 14720\n",
      "  9000  mean score last 1k = 5497  best = 13888\n",
      " 10000  mean score last 1k = 5497  best = 14068\n",
      " 11000  mean score last 1k = 5779  best = 13744\n",
      " 12000  mean score last 1k = 5823  best = 15436\n",
      " 13000  mean score last 1k = 5844  best = 14476\n",
      " 14000  mean score last 1k = 5865  best = 14748\n",
      " 15000  mean score last 1k = 5739  best = 14504\n",
      " 16000  mean score last 1k = 5987  best = 15336\n",
      " 17000  mean score last 1k = 5812  best = 15080\n"
     ]
    },
    {
     "ename": "KeyboardInterrupt",
     "evalue": "",
     "output_type": "error",
     "traceback": [
      "\u001b[1;31m---------------------------------------------------------------------------\u001b[0m",
      "\u001b[1;31mKeyboardInterrupt\u001b[0m                         Traceback (most recent call last)",
      "Cell \u001b[1;32mIn[4], line 18\u001b[0m\n\u001b[0;32m     14\u001b[0m             \u001b[38;5;28mprint\u001b[39m(\u001b[38;5;124mf\u001b[39m\u001b[38;5;124m\"\u001b[39m\u001b[38;5;132;01m{\u001b[39;00mep\u001b[38;5;132;01m:\u001b[39;00m\u001b[38;5;124m>6\u001b[39m\u001b[38;5;132;01m}\u001b[39;00m\u001b[38;5;124m  mean score last 1k = \u001b[39m\u001b[38;5;132;01m{\u001b[39;00mnp\u001b[38;5;241m.\u001b[39mmean(score_history[\u001b[38;5;241m-\u001b[39m\u001b[38;5;241m1000\u001b[39m:])\u001b[38;5;132;01m:\u001b[39;00m\u001b[38;5;124m.0f\u001b[39m\u001b[38;5;132;01m}\u001b[39;00m\u001b[38;5;124m  \u001b[39m\u001b[38;5;124m\"\u001b[39m\n\u001b[0;32m     15\u001b[0m                   \u001b[38;5;124mf\u001b[39m\u001b[38;5;124m\"\u001b[39m\u001b[38;5;124mbest = \u001b[39m\u001b[38;5;132;01m{\u001b[39;00mnp\u001b[38;5;241m.\u001b[39mmax(score_history[\u001b[38;5;241m-\u001b[39m\u001b[38;5;241m1000\u001b[39m:])\u001b[38;5;132;01m}\u001b[39;00m\u001b[38;5;124m\"\u001b[39m)\n\u001b[0;32m     16\u001b[0m     \u001b[38;5;28;01mreturn\u001b[39;00m learner, np\u001b[38;5;241m.\u001b[39marray(ep_history), np\u001b[38;5;241m.\u001b[39marray(score_history)\n\u001b[1;32m---> 18\u001b[0m learner, ep, scores \u001b[38;5;241m=\u001b[39m \u001b[43mtrain\u001b[49m\u001b[43m(\u001b[49m\u001b[43mnum_episodes\u001b[49m\u001b[38;5;241;43m=\u001b[39;49m\u001b[38;5;241;43m50_000\u001b[39;49m\u001b[43m,\u001b[49m\u001b[43m \u001b[49m\u001b[43malpha\u001b[49m\u001b[38;5;241;43m=\u001b[39;49m\u001b[38;5;241;43m0.01\u001b[39;49m\u001b[43m,\u001b[49m\u001b[43m \u001b[49m\u001b[43mepsilon\u001b[49m\u001b[38;5;241;43m=\u001b[39;49m\u001b[38;5;241;43m0.05\u001b[39;49m\u001b[43m,\u001b[49m\u001b[43m \u001b[49m\u001b[43mseed\u001b[49m\u001b[38;5;241;43m=\u001b[39;49m\u001b[38;5;241;43m42\u001b[39;49m\u001b[43m)\u001b[49m\n",
      "Cell \u001b[1;32mIn[4], line 10\u001b[0m, in \u001b[0;36mtrain\u001b[1;34m(num_episodes, alpha, epsilon, seed)\u001b[0m\n\u001b[0;32m      8\u001b[0m ep_history, score_history \u001b[38;5;241m=\u001b[39m [], []\n\u001b[0;32m      9\u001b[0m \u001b[38;5;28;01mfor\u001b[39;00m ep \u001b[38;5;129;01min\u001b[39;00m \u001b[38;5;28mrange\u001b[39m(\u001b[38;5;241m1\u001b[39m, num_episodes \u001b[38;5;241m+\u001b[39m \u001b[38;5;241m1\u001b[39m):\n\u001b[1;32m---> 10\u001b[0m     score \u001b[38;5;241m=\u001b[39m \u001b[43magent\u001b[49m\u001b[38;5;241;43m.\u001b[39;49m\u001b[43mrun_episode\u001b[49m\u001b[43m(\u001b[49m\u001b[43m)\u001b[49m\n\u001b[0;32m     11\u001b[0m     ep_history\u001b[38;5;241m.\u001b[39mappend(ep)\n\u001b[0;32m     12\u001b[0m     score_history\u001b[38;5;241m.\u001b[39mappend(score)\n",
      "File \u001b[1;32m~\\OneDrive - McGill University\\McGill\\Semester 8\\COMP579\\Final Project\\try#2\\agent.py:10\u001b[0m, in \u001b[0;36mAgent.run_episode\u001b[1;34m(self)\u001b[0m\n\u001b[0;32m      8\u001b[0m done, total \u001b[38;5;241m=\u001b[39m \u001b[38;5;28;01mFalse\u001b[39;00m, \u001b[38;5;241m0\u001b[39m\n\u001b[0;32m      9\u001b[0m \u001b[38;5;28;01mwhile\u001b[39;00m \u001b[38;5;129;01mnot\u001b[39;00m done:\n\u001b[1;32m---> 10\u001b[0m     a \u001b[38;5;241m=\u001b[39m \u001b[38;5;28;43mself\u001b[39;49m\u001b[38;5;241;43m.\u001b[39;49m\u001b[43mln\u001b[49m\u001b[38;5;241;43m.\u001b[39;49m\u001b[43mselect_action\u001b[49m\u001b[43m(\u001b[49m\u001b[43ms\u001b[49m\u001b[43m,\u001b[49m\u001b[43m \u001b[49m\u001b[38;5;28;43mself\u001b[39;49m\u001b[38;5;241;43m.\u001b[39;49m\u001b[43meps\u001b[49m\u001b[43m)\u001b[49m\n\u001b[0;32m     11\u001b[0m     s2, r, done, _ \u001b[38;5;241m=\u001b[39m \u001b[38;5;28mself\u001b[39m\u001b[38;5;241m.\u001b[39menv\u001b[38;5;241m.\u001b[39mstep(a)\n\u001b[0;32m     12\u001b[0m     \u001b[38;5;28mself\u001b[39m\u001b[38;5;241m.\u001b[39mln\u001b[38;5;241m.\u001b[39mupdate(s, a, r, s2, done)\n",
      "File \u001b[1;32m~\\OneDrive - McGill University\\McGill\\Semester 8\\COMP579\\Final Project\\try#2\\learners.py:23\u001b[0m, in \u001b[0;36mTD0Learner.select_action\u001b[1;34m(self, s, eps)\u001b[0m\n\u001b[0;32m     21\u001b[0m     r \u001b[38;5;241m=\u001b[39m b\u001b[38;5;241m.\u001b[39mmove(a)\n\u001b[0;32m     22\u001b[0m     \u001b[38;5;28;01mif\u001b[39;00m r \u001b[38;5;241m==\u001b[39m \u001b[38;5;241m-\u001b[39m\u001b[38;5;241m1\u001b[39m: \u001b[38;5;28;01mcontinue\u001b[39;00m\n\u001b[1;32m---> 23\u001b[0m     q \u001b[38;5;241m=\u001b[39m r \u001b[38;5;241m+\u001b[39m \u001b[38;5;28mself\u001b[39m\u001b[38;5;241m.\u001b[39mgamma \u001b[38;5;241m*\u001b[39m \u001b[38;5;28;43mself\u001b[39;49m\u001b[38;5;241;43m.\u001b[39;49m\u001b[43m_V\u001b[49m\u001b[43m(\u001b[49m\u001b[43mb\u001b[49m\u001b[43m)\u001b[49m\n\u001b[0;32m     24\u001b[0m     \u001b[38;5;28;01mif\u001b[39;00m q \u001b[38;5;241m>\u001b[39m best_q: best_q, best_a \u001b[38;5;241m=\u001b[39m q, a\n\u001b[0;32m     25\u001b[0m \u001b[38;5;28;01mreturn\u001b[39;00m best_a\n",
      "File \u001b[1;32m~\\OneDrive - McGill University\\McGill\\Semester 8\\COMP579\\Final Project\\try#2\\learners.py:13\u001b[0m, in \u001b[0;36mTD0Learner._V\u001b[1;34m(self, board)\u001b[0m\n\u001b[0;32m     12\u001b[0m \u001b[38;5;28;01mdef\u001b[39;00m \u001b[38;5;21m_V\u001b[39m(\u001b[38;5;28mself\u001b[39m, board):                   \u001b[38;5;66;03m# value of an after-state\u001b[39;00m\n\u001b[1;32m---> 13\u001b[0m     \u001b[38;5;28;01mreturn\u001b[39;00m \u001b[38;5;28;43msum\u001b[39;49m\u001b[43m(\u001b[49m\u001b[43mf\u001b[49m\u001b[38;5;241;43m.\u001b[39;49m\u001b[43mvalue\u001b[49m\u001b[43m(\u001b[49m\u001b[43mboard\u001b[49m\u001b[43m)\u001b[49m\u001b[43m \u001b[49m\u001b[38;5;28;43;01mfor\u001b[39;49;00m\u001b[43m \u001b[49m\u001b[43mf\u001b[49m\u001b[43m \u001b[49m\u001b[38;5;129;43;01min\u001b[39;49;00m\u001b[43m \u001b[49m\u001b[38;5;28;43mself\u001b[39;49m\u001b[38;5;241;43m.\u001b[39;49m\u001b[43mfeats\u001b[49m\u001b[43m)\u001b[49m\n",
      "File \u001b[1;32m~\\OneDrive - McGill University\\McGill\\Semester 8\\COMP579\\Final Project\\try#2\\learners.py:13\u001b[0m, in \u001b[0;36m<genexpr>\u001b[1;34m(.0)\u001b[0m\n\u001b[0;32m     12\u001b[0m \u001b[38;5;28;01mdef\u001b[39;00m \u001b[38;5;21m_V\u001b[39m(\u001b[38;5;28mself\u001b[39m, board):                   \u001b[38;5;66;03m# value of an after-state\u001b[39;00m\n\u001b[1;32m---> 13\u001b[0m     \u001b[38;5;28;01mreturn\u001b[39;00m \u001b[38;5;28msum\u001b[39m(\u001b[43mf\u001b[49m\u001b[38;5;241;43m.\u001b[39;49m\u001b[43mvalue\u001b[49m\u001b[43m(\u001b[49m\u001b[43mboard\u001b[49m\u001b[43m)\u001b[49m \u001b[38;5;28;01mfor\u001b[39;00m f \u001b[38;5;129;01min\u001b[39;00m \u001b[38;5;28mself\u001b[39m\u001b[38;5;241m.\u001b[39mfeats)\n",
      "File \u001b[1;32m~\\OneDrive - McGill University\\McGill\\Semester 8\\COMP579\\Final Project\\try#2\\features.py:25\u001b[0m, in \u001b[0;36mPattern.value\u001b[1;34m(self, board)\u001b[0m\n\u001b[0;32m     24\u001b[0m \u001b[38;5;28;01mdef\u001b[39;00m \u001b[38;5;21mvalue\u001b[39m(\u001b[38;5;28mself\u001b[39m, board):\n\u001b[1;32m---> 25\u001b[0m     \u001b[38;5;28;01mreturn\u001b[39;00m \u001b[38;5;28;43msum\u001b[39;49m\u001b[43m(\u001b[49m\u001b[38;5;28;43mself\u001b[39;49m\u001b[38;5;241;43m.\u001b[39;49m\u001b[43mweight\u001b[49m\u001b[43m[\u001b[49m\u001b[38;5;28;43mself\u001b[39;49m\u001b[38;5;241;43m.\u001b[39;49m\u001b[43m_index\u001b[49m\u001b[43m(\u001b[49m\u001b[43mp\u001b[49m\u001b[43m,\u001b[49m\u001b[43mboard\u001b[49m\u001b[43m)\u001b[49m\u001b[43m]\u001b[49m\u001b[43m \u001b[49m\u001b[38;5;28;43;01mfor\u001b[39;49;00m\u001b[43m \u001b[49m\u001b[43mp\u001b[49m\u001b[43m \u001b[49m\u001b[38;5;129;43;01min\u001b[39;49;00m\u001b[43m \u001b[49m\u001b[38;5;28;43mself\u001b[39;49m\u001b[38;5;241;43m.\u001b[39;49m\u001b[43misom\u001b[49m\u001b[43m)\u001b[49m\n",
      "File \u001b[1;32m~\\OneDrive - McGill University\\McGill\\Semester 8\\COMP579\\Final Project\\try#2\\features.py:25\u001b[0m, in \u001b[0;36m<genexpr>\u001b[1;34m(.0)\u001b[0m\n\u001b[0;32m     24\u001b[0m \u001b[38;5;28;01mdef\u001b[39;00m \u001b[38;5;21mvalue\u001b[39m(\u001b[38;5;28mself\u001b[39m, board):\n\u001b[1;32m---> 25\u001b[0m     \u001b[38;5;28;01mreturn\u001b[39;00m \u001b[38;5;28msum\u001b[39m(\u001b[38;5;28mself\u001b[39m\u001b[38;5;241m.\u001b[39mweight[\u001b[38;5;28;43mself\u001b[39;49m\u001b[38;5;241;43m.\u001b[39;49m\u001b[43m_index\u001b[49m\u001b[43m(\u001b[49m\u001b[43mp\u001b[49m\u001b[43m,\u001b[49m\u001b[43mboard\u001b[49m\u001b[43m)\u001b[49m] \u001b[38;5;28;01mfor\u001b[39;00m p \u001b[38;5;129;01min\u001b[39;00m \u001b[38;5;28mself\u001b[39m\u001b[38;5;241m.\u001b[39misom)\n",
      "File \u001b[1;32m~\\OneDrive - McGill University\\McGill\\Semester 8\\COMP579\\Final Project\\try#2\\features.py:21\u001b[0m, in \u001b[0;36mPattern._index\u001b[1;34m(self, patt, board)\u001b[0m\n\u001b[0;32m     19\u001b[0m idx \u001b[38;5;241m=\u001b[39m \u001b[38;5;241m0\u001b[39m\n\u001b[0;32m     20\u001b[0m \u001b[38;5;28;01mfor\u001b[39;00m i,p \u001b[38;5;129;01min\u001b[39;00m \u001b[38;5;28menumerate\u001b[39m(patt):\n\u001b[1;32m---> 21\u001b[0m     idx \u001b[38;5;241m|\u001b[39m\u001b[38;5;241m=\u001b[39m \u001b[43mboard\u001b[49m\u001b[38;5;241;43m.\u001b[39;49m\u001b[43mat\u001b[49m\u001b[43m(\u001b[49m\u001b[43mp\u001b[49m\u001b[43m)\u001b[49m \u001b[38;5;241m<<\u001b[39m (\u001b[38;5;241m4\u001b[39m\u001b[38;5;241m*\u001b[39mi)\n\u001b[0;32m     22\u001b[0m \u001b[38;5;28;01mreturn\u001b[39;00m idx\n",
      "File \u001b[1;32m~\\OneDrive - McGill University\\McGill\\Semester 8\\COMP579\\Final Project\\try#2\\board.py:10\u001b[0m, in \u001b[0;36mBoard.at\u001b[1;34m(self, idx)\u001b[0m\n\u001b[0;32m      7\u001b[0m     \u001b[38;5;28mself\u001b[39m\u001b[38;5;241m.\u001b[39mraw \u001b[38;5;241m=\u001b[39m raw\n\u001b[0;32m      9\u001b[0m \u001b[38;5;66;03m# ─── 4-bit tile helpers ────────────────────────────────────────────\u001b[39;00m\n\u001b[1;32m---> 10\u001b[0m \u001b[38;5;28;01mdef\u001b[39;00m \u001b[38;5;21mat\u001b[39m(\u001b[38;5;28mself\u001b[39m, idx: \u001b[38;5;28mint\u001b[39m) \u001b[38;5;241m-\u001b[39m\u001b[38;5;241m>\u001b[39m \u001b[38;5;28mint\u001b[39m:\n\u001b[0;32m     11\u001b[0m     \u001b[38;5;28;01mreturn\u001b[39;00m (\u001b[38;5;28mself\u001b[39m\u001b[38;5;241m.\u001b[39mraw \u001b[38;5;241m>>\u001b[39m (idx \u001b[38;5;241m<<\u001b[39m \u001b[38;5;241m2\u001b[39m)) \u001b[38;5;241m&\u001b[39m \u001b[38;5;241m0xF\u001b[39m          \u001b[38;5;66;03m# log2 value (0 = empty)\u001b[39;00m\n\u001b[0;32m     13\u001b[0m \u001b[38;5;28;01mdef\u001b[39;00m \u001b[38;5;21mset\u001b[39m(\u001b[38;5;28mself\u001b[39m, idx: \u001b[38;5;28mint\u001b[39m, val: \u001b[38;5;28mint\u001b[39m) \u001b[38;5;241m-\u001b[39m\u001b[38;5;241m>\u001b[39m \u001b[38;5;28;01mNone\u001b[39;00m:\n",
      "\u001b[1;31mKeyboardInterrupt\u001b[0m: "
     ]
    }
   ],
   "source": [
    "import numpy as np\n",
    "\n",
    "def train(num_episodes=50_000, alpha=0.01, epsilon=0.1, seed=None):\n",
    "    env     = Game2048Env(seed=seed)\n",
    "    learner = make_learner(alpha=alpha)\n",
    "    agent   = Agent(env, learner, eps=epsilon)\n",
    "\n",
    "    ep_history, score_history = [], []\n",
    "    for ep in range(1, num_episodes + 1):\n",
    "        score = agent.run_episode()\n",
    "        ep_history.append(ep)\n",
    "        score_history.append(score)\n",
    "        if ep % 1_000 == 0:\n",
    "            print(f\"{ep:>6}  mean score last 1k = {np.mean(score_history[-1000:]):.0f}  \"\n",
    "                  f\"best = {np.max(score_history[-1000:])}\")\n",
    "    return learner, np.array(ep_history), np.array(score_history)\n",
    "\n",
    "learner, ep, scores = train(num_episodes=50_000, alpha=0.01, epsilon=0.05, seed=42)"
   ]
  }
 ],
 "metadata": {
  "kernelspec": {
   "display_name": "Python 3",
   "language": "python",
   "name": "python3"
  },
  "language_info": {
   "codemirror_mode": {
    "name": "ipython",
    "version": 3
   },
   "file_extension": ".py",
   "mimetype": "text/x-python",
   "name": "python",
   "nbconvert_exporter": "python",
   "pygments_lexer": "ipython3",
   "version": "3.12.2"
  }
 },
 "nbformat": 4,
 "nbformat_minor": 5
}
